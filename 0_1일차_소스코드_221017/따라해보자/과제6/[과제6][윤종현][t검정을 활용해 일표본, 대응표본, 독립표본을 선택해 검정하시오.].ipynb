{
 "cells": [
  {
   "cell_type": "code",
   "execution_count": 79,
   "id": "187bfe3b",
   "metadata": {},
   "outputs": [],
   "source": [
    "import numpy as np\n",
    "import pandas as pd\n",
    "\n",
    "from scipy.stats import shapiro\n",
    "\n",
    "import seaborn as sns\n",
    "from matplotlib import pyplot as plt\n",
    "import scipy.stats as stats"
   ]
  },
  {
   "cell_type": "markdown",
   "id": "7ffd0d12",
   "metadata": {},
   "source": [
    "### 필요한 파일 가져오기  일표본 ###"
   ]
  },
  {
   "cell_type": "code",
   "execution_count": 80,
   "id": "94354fb2",
   "metadata": {},
   "outputs": [
    {
     "data": {
      "text/html": [
       "<div>\n",
       "<style scoped>\n",
       "    .dataframe tbody tr th:only-of-type {\n",
       "        vertical-align: middle;\n",
       "    }\n",
       "\n",
       "    .dataframe tbody tr th {\n",
       "        vertical-align: top;\n",
       "    }\n",
       "\n",
       "    .dataframe thead th {\n",
       "        text-align: right;\n",
       "    }\n",
       "</style>\n",
       "<table border=\"1\" class=\"dataframe\">\n",
       "  <thead>\n",
       "    <tr style=\"text-align: right;\">\n",
       "      <th></th>\n",
       "      <th>no</th>\n",
       "      <th>gender</th>\n",
       "      <th>survey</th>\n",
       "      <th>time</th>\n",
       "    </tr>\n",
       "  </thead>\n",
       "  <tbody>\n",
       "    <tr>\n",
       "      <th>0</th>\n",
       "      <td>1</td>\n",
       "      <td>2</td>\n",
       "      <td>1</td>\n",
       "      <td>5.1</td>\n",
       "    </tr>\n",
       "    <tr>\n",
       "      <th>1</th>\n",
       "      <td>2</td>\n",
       "      <td>2</td>\n",
       "      <td>0</td>\n",
       "      <td>5.2</td>\n",
       "    </tr>\n",
       "    <tr>\n",
       "      <th>2</th>\n",
       "      <td>3</td>\n",
       "      <td>2</td>\n",
       "      <td>1</td>\n",
       "      <td>4.7</td>\n",
       "    </tr>\n",
       "    <tr>\n",
       "      <th>3</th>\n",
       "      <td>4</td>\n",
       "      <td>2</td>\n",
       "      <td>1</td>\n",
       "      <td>4.8</td>\n",
       "    </tr>\n",
       "    <tr>\n",
       "      <th>4</th>\n",
       "      <td>5</td>\n",
       "      <td>2</td>\n",
       "      <td>1</td>\n",
       "      <td>5</td>\n",
       "    </tr>\n",
       "    <tr>\n",
       "      <th>...</th>\n",
       "      <td>...</td>\n",
       "      <td>...</td>\n",
       "      <td>...</td>\n",
       "      <td>...</td>\n",
       "    </tr>\n",
       "    <tr>\n",
       "      <th>145</th>\n",
       "      <td>146</td>\n",
       "      <td>1</td>\n",
       "      <td>1</td>\n",
       "      <td>5.4</td>\n",
       "    </tr>\n",
       "    <tr>\n",
       "      <th>146</th>\n",
       "      <td>147</td>\n",
       "      <td>2</td>\n",
       "      <td>1</td>\n",
       "      <td>5.3</td>\n",
       "    </tr>\n",
       "    <tr>\n",
       "      <th>147</th>\n",
       "      <td>148</td>\n",
       "      <td>1</td>\n",
       "      <td>1</td>\n",
       "      <td>6.5</td>\n",
       "    </tr>\n",
       "    <tr>\n",
       "      <th>148</th>\n",
       "      <td>149</td>\n",
       "      <td>1</td>\n",
       "      <td>1</td>\n",
       "      <td>6.2</td>\n",
       "    </tr>\n",
       "    <tr>\n",
       "      <th>149</th>\n",
       "      <td>150</td>\n",
       "      <td>2</td>\n",
       "      <td>1</td>\n",
       "      <td>5.9</td>\n",
       "    </tr>\n",
       "  </tbody>\n",
       "</table>\n",
       "<p>150 rows × 4 columns</p>\n",
       "</div>"
      ],
      "text/plain": [
       "      no    gender  survey time\n",
       "0      1         2       1  5.1\n",
       "1      2         2       0  5.2\n",
       "2      3         2       1  4.7\n",
       "3      4         2       1  4.8\n",
       "4      5         2       1    5\n",
       "..   ...       ...     ...  ...\n",
       "145  146         1       1  5.4\n",
       "146  147         2       1  5.3\n",
       "147  148         1       1  6.5\n",
       "148  149         1       1  6.2\n",
       "149  150         2       1  5.9\n",
       "\n",
       "[150 rows x 4 columns]"
      ]
     },
     "execution_count": 80,
     "metadata": {},
     "output_type": "execute_result"
    }
   ],
   "source": [
    "one = pd.read_csv(\"one_sample.csv\")\n",
    "one"
   ]
  },
  {
   "cell_type": "markdown",
   "id": "692f01f8",
   "metadata": {},
   "source": [
    "#### 시간을 사용해야 할것 같다. time 이 시간과 관련있을것 이다."
   ]
  },
  {
   "cell_type": "code",
   "execution_count": 81,
   "id": "70117437",
   "metadata": {},
   "outputs": [
    {
     "name": "stdout",
     "output_type": "stream",
     "text": [
      "<class 'pandas.core.frame.DataFrame'>\n",
      "RangeIndex: 150 entries, 0 to 149\n",
      "Data columns (total 4 columns):\n",
      " #   Column    Non-Null Count  Dtype \n",
      "---  ------    --------------  ----- \n",
      " 0   no        150 non-null    int64 \n",
      " 1     gender  150 non-null    int64 \n",
      " 2   survey    150 non-null    int64 \n",
      " 3   time      150 non-null    object\n",
      "dtypes: int64(3), object(1)\n",
      "memory usage: 4.8+ KB\n"
     ]
    }
   ],
   "source": [
    "one.info()"
   ]
  },
  {
   "cell_type": "markdown",
   "id": "1f832226",
   "metadata": {},
   "source": [
    "#### 그런데 시간에 object 가 있다.\n"
   ]
  },
  {
   "cell_type": "markdown",
   "id": "015a3b68",
   "metadata": {},
   "source": [
    "#### 엑셀파일을 보니 \"     \" 이 있었다"
   ]
  },
  {
   "cell_type": "code",
   "execution_count": 82,
   "id": "725b50f2",
   "metadata": {},
   "outputs": [],
   "source": [
    "one_time=one.replace(\"     \",0)"
   ]
  },
  {
   "cell_type": "markdown",
   "id": "7429d2c9",
   "metadata": {},
   "source": [
    "#### 공백을 없애 주었다."
   ]
  },
  {
   "cell_type": "code",
   "execution_count": 83,
   "id": "3301daab",
   "metadata": {},
   "outputs": [
    {
     "data": {
      "text/plain": [
       "0    5.1\n",
       "1    5.2\n",
       "2    4.7\n",
       "3    4.8\n",
       "4      5\n",
       "5    5.4\n",
       "6      0\n",
       "7      5\n",
       "8    4.4\n",
       "9    4.9\n",
       "Name: time, dtype: object"
      ]
     },
     "execution_count": 83,
     "metadata": {},
     "output_type": "execute_result"
    }
   ],
   "source": [
    "one_head = one_time[\"time\"].head(10)\n",
    "one_head"
   ]
  },
  {
   "cell_type": "markdown",
   "id": "e40828a2",
   "metadata": {},
   "source": [
    "#### object 가 아직도 나온다."
   ]
  },
  {
   "cell_type": "markdown",
   "id": "14ce43f4",
   "metadata": {},
   "source": [
    "#### time 데이터타입을 float 로 바꾸어 주었다."
   ]
  },
  {
   "cell_type": "code",
   "execution_count": 84,
   "id": "13a048c4",
   "metadata": {},
   "outputs": [],
   "source": [
    "one_time=one_time.astype(float)"
   ]
  },
  {
   "cell_type": "code",
   "execution_count": 85,
   "id": "161e7bbe",
   "metadata": {},
   "outputs": [
    {
     "data": {
      "text/plain": [
       "(0.7953072786331177, 3.2998693296100445e-13)"
      ]
     },
     "execution_count": 85,
     "metadata": {},
     "output_type": "execute_result"
    }
   ],
   "source": [
    "data_one = one_time[\"time\"]\n",
    "stat, pvalue = stats.shapiro(data_one) \n",
    "stat, pvalue"
   ]
  },
  {
   "cell_type": "code",
   "execution_count": 86,
   "id": "b5c4d054",
   "metadata": {},
   "outputs": [
    {
     "data": {
      "text/plain": [
       "ShapiroResult(statistic=0.7953072786331177, pvalue=3.2998693296100445e-13)"
      ]
     },
     "execution_count": 86,
     "metadata": {},
     "output_type": "execute_result"
    }
   ],
   "source": [
    "mu =5.2\n",
    "shapiro(one_time[\"time\"])"
   ]
  },
  {
   "cell_type": "markdown",
   "id": "940f682b",
   "metadata": {},
   "source": [
    "#### [결과해석] 첫번째 값 (검정통계치) : 0.79530\n",
    "#### 두번째 값 (p-value) : 3.29986 유의 수준보다 작으므로\n",
    "#### 귀무가설을 기각한다. 즉 one_sample 의 time 변수는 정규분포를 따르지 않는다. 데이터가 정규분포를 따르지 않으므로 wilcox test 로 t-test를 진행한다. 만약, 정규분포를 따른다면 stats.ttest_1samp(data_one.time, popmean=mu)를 사용하면 된다."
   ]
  },
  {
   "cell_type": "code",
   "execution_count": 88,
   "id": "c1a317c8",
   "metadata": {},
   "outputs": [
    {
     "data": {
      "text/plain": [
       "WilcoxonResult(statistic=3721.0, pvalue=0.00392080165743345)"
      ]
     },
     "execution_count": 88,
     "metadata": {},
     "output_type": "execute_result"
    }
   ],
   "source": [
    "stats.wilcoxon(one_time.time - mu , alternative='two-sided')"
   ]
  },
  {
   "cell_type": "code",
   "execution_count": null,
   "id": "a4ddd71b",
   "metadata": {},
   "outputs": [],
   "source": []
  }
 ],
 "metadata": {
  "kernelspec": {
   "display_name": "Python 3 (ipykernel)",
   "language": "python",
   "name": "python3"
  },
  "language_info": {
   "codemirror_mode": {
    "name": "ipython",
    "version": 3
   },
   "file_extension": ".py",
   "mimetype": "text/x-python",
   "name": "python",
   "nbconvert_exporter": "python",
   "pygments_lexer": "ipython3",
   "version": "3.9.12"
  }
 },
 "nbformat": 4,
 "nbformat_minor": 5
}

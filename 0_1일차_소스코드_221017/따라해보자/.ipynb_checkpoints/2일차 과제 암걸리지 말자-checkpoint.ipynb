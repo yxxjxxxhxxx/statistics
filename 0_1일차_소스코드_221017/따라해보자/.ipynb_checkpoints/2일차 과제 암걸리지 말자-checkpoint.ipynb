{
 "cells": [
  {
   "cell_type": "markdown",
   "id": "d250f2c9",
   "metadata": {},
   "source": [
    "# 암에 걸리지 말자 과제"
   ]
  },
  {
   "cell_type": "code",
   "execution_count": null,
   "id": "c1139169",
   "metadata": {},
   "outputs": [],
   "source": [
    "# 한글 폰트 사용을 위해서 세팅\n",
    "from matplotlib import font_manager, rc\n",
    "font_path = \"C:/Windows/Fonts/H2GPRM.TTF\"\n",
    "font = font_manager.FontProperties(fname=font_path).get_name()\n",
    "rc('font', family=font)\n",
    "\n",
    "import pandas as pd # 데이터를 보기쉽게 데이터프레임 씌워주는거\n",
    "import matplotlib.pyplot as plt # 데이터 시각적으로 보여주는거\n",
    "import seaborn as sns #그래프 그릴때 도와주는거\n",
    "import numpy as np\n",
    "from pandas.plotting import scatter_matrix\n",
    "\n",
    "\n",
    "from sklearn.datasets import load_breast_cancer\n",
    "cancer = load_breast_cancer()"
   ]
  },
  {
   "cell_type": "code",
   "execution_count": null,
   "id": "1a5177ab",
   "metadata": {},
   "outputs": [],
   "source": [
    "cancer"
   ]
  },
  {
   "cell_type": "code",
   "execution_count": null,
   "id": "26314ace",
   "metadata": {},
   "outputs": [],
   "source": [
    "cancer.data"
   ]
  },
  {
   "cell_type": "code",
   "execution_count": null,
   "id": "78b414c9",
   "metadata": {},
   "outputs": [],
   "source": [
    "cancer.target"
   ]
  },
  {
   "cell_type": "code",
   "execution_count": null,
   "id": "d8a73af2",
   "metadata": {},
   "outputs": [],
   "source": [
    "cancer = pd.DataFrame(cancer.data, \n",
    "                      columns = cancer.feature_names)"
   ]
  },
  {
   "cell_type": "code",
   "execution_count": null,
   "id": "9b177547",
   "metadata": {},
   "outputs": [],
   "source": [
    "cancer"
   ]
  },
  {
   "cell_type": "code",
   "execution_count": null,
   "id": "04134ea8",
   "metadata": {},
   "outputs": [],
   "source": [
    "cancer[\"Class\"] = load_breast_cancer().target"
   ]
  },
  {
   "cell_type": "code",
   "execution_count": null,
   "id": "0768c8f7",
   "metadata": {},
   "outputs": [],
   "source": [
    "cancer"
   ]
  },
  {
   "cell_type": "code",
   "execution_count": null,
   "id": "c4499528",
   "metadata": {},
   "outputs": [],
   "source": [
    "cancer[\"Class\"] = cancer[\"Class\"].map({0:\"음성\", 1:\"양성\"})"
   ]
  },
  {
   "cell_type": "code",
   "execution_count": null,
   "id": "d9888287",
   "metadata": {},
   "outputs": [],
   "source": [
    "cancer"
   ]
  },
  {
   "cell_type": "code",
   "execution_count": null,
   "id": "d2489532",
   "metadata": {},
   "outputs": [],
   "source": [
    "cancer_type = cancer[\"Class\"].value_counts()"
   ]
  },
  {
   "cell_type": "code",
   "execution_count": null,
   "id": "5b13f3ee",
   "metadata": {},
   "outputs": [],
   "source": [
    "cancer_type"
   ]
  },
  {
   "cell_type": "markdown",
   "id": "7808c75e",
   "metadata": {},
   "source": [
    "## 히스토그램"
   ]
  },
  {
   "cell_type": "code",
   "execution_count": null,
   "id": "4b9624a6",
   "metadata": {},
   "outputs": [],
   "source": [
    "cancer"
   ]
  },
  {
   "cell_type": "code",
   "execution_count": null,
   "id": "01c954c8",
   "metadata": {},
   "outputs": [],
   "source": [
    "#plt.title(\"유방암 발생 면적 데이터\")\n",
    "fig, axs = plt.subplots(nrows=6, ncols=6) # 여러개 할때 6행6열\n",
    "fig.set_size_inches(25, 15) # 피규어 크기 조정\n",
    "plt.subplots_adjust(wspace = 0.3, hspace = 0.3)\n",
    "for i, col in enumerate(cancer):\n",
    "    sns.histplot(cancer[col], ax=axs[i//6, i%6], color='lightsteelblue')\n",
    "\n",
    "\n",
    "\n",
    "# plt.hist(\"worst area\", color = \"purple\", data = cancer)\n",
    "# plt.show()"
   ]
  },
  {
   "cell_type": "code",
   "execution_count": null,
   "id": "7efd527b",
   "metadata": {},
   "outputs": [],
   "source": [
    "plt.title(\"유방암 발생 면적 데이터\")\n",
    "plt.hist(\"worst area\", color = \"purple\", data = cancer)\n",
    "plt.show()"
   ]
  },
  {
   "cell_type": "code",
   "execution_count": null,
   "id": "f1a368a7",
   "metadata": {},
   "outputs": [],
   "source": [
    "cancer.drop(columns=\"Class\").plot(kind=\"box\")\n",
    "plt.show()"
   ]
  },
  {
   "cell_type": "code",
   "execution_count": null,
   "id": "e18f3b5d",
   "metadata": {},
   "outputs": [],
   "source": [
    "cancer"
   ]
  },
  {
   "cell_type": "code",
   "execution_count": null,
   "id": "a347edd9",
   "metadata": {},
   "outputs": [],
   "source": [
    "import matplotlib.pyplot as plt\n",
    "\n",
    "plt.boxplot(cancer['worst area'], whis=1)\n",
    "plt.title('암암알고있지')\n",
    "plt.show()"
   ]
  },
  {
   "cell_type": "code",
   "execution_count": null,
   "id": "ef5e25e5",
   "metadata": {},
   "outputs": [],
   "source": [
    "for i, col in enumerate(cancer.drop('Class', axis=1)):\n",
    "    sns.boxplot(x=cancer[\"Class\"], y=cancer[col])\n",
    "    plt.show()"
   ]
  },
  {
   "cell_type": "code",
   "execution_count": null,
   "id": "198a091a",
   "metadata": {},
   "outputs": [],
   "source": [
    "import seaborn as sns\n",
    "\n",
    "sns.pairplot(cancer, diag_kind = 'auto', hue = 'Class')\n",
    "plt.show()"
   ]
  },
  {
   "cell_type": "code",
   "execution_count": null,
   "id": "1de8f7ad",
   "metadata": {},
   "outputs": [],
   "source": [
    "scatter_matrix(cancer, alpha = 0.5, figsize = (8, 8), diagonal = 'kde')\n",
    "plt.show()"
   ]
  },
  {
   "cell_type": "code",
   "execution_count": null,
   "id": "7311b311",
   "metadata": {},
   "outputs": [],
   "source": []
  },
  {
   "cell_type": "code",
   "execution_count": null,
   "id": "b83824b2",
   "metadata": {},
   "outputs": [],
   "source": []
  },
  {
   "cell_type": "code",
   "execution_count": null,
   "id": "12161c6c",
   "metadata": {},
   "outputs": [],
   "source": []
  },
  {
   "cell_type": "code",
   "execution_count": null,
   "id": "70d3d38d",
   "metadata": {},
   "outputs": [],
   "source": []
  }
 ],
 "metadata": {
  "kernelspec": {
   "display_name": "Python 3 (ipykernel)",
   "language": "python",
   "name": "python3"
  },
  "language_info": {
   "codemirror_mode": {
    "name": "ipython",
    "version": 3
   },
   "file_extension": ".py",
   "mimetype": "text/x-python",
   "name": "python",
   "nbconvert_exporter": "python",
   "pygments_lexer": "ipython3",
   "version": "3.9.12"
  }
 },
 "nbformat": 4,
 "nbformat_minor": 5
}

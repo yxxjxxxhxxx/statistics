{
 "cells": [
  {
   "cell_type": "code",
   "execution_count": 1,
   "id": "f0da09cc",
   "metadata": {},
   "outputs": [],
   "source": [
    "import numpy as np\n",
    "import pandas as pd\n",
    "\n",
    "import seaborn as sns\n",
    "from matplotlib import pyplot as plt\n",
    "import scipy.stats as stats"
   ]
  },
  {
   "cell_type": "code",
   "execution_count": 8,
   "id": "ab39223d",
   "metadata": {},
   "outputs": [],
   "source": [
    "import scipy.stats as stats # Scipy패키지를 이용하여 카이제곱 검정과 집단간 평균차이 검정을 해보자."
   ]
  },
  {
   "cell_type": "code",
   "execution_count": 3,
   "id": "3f8b2fb9",
   "metadata": {},
   "outputs": [
    {
     "data": {
      "text/plain": [
       "6"
      ]
     },
     "execution_count": 3,
     "metadata": {},
     "output_type": "execute_result"
    }
   ],
   "source": [
    "dataHeart = [93,109,110,89,112,117]\n",
    "len(dataHeart)"
   ]
  },
  {
   "cell_type": "code",
   "execution_count": 5,
   "id": "091e8d6a",
   "metadata": {},
   "outputs": [
    {
     "data": {
      "text/plain": [
       "(-2.1752841650548027, 0.0815970245869877)"
      ]
     },
     "execution_count": 5,
     "metadata": {},
     "output_type": "execute_result"
    }
   ],
   "source": [
    "tvalue, pvalue = stats.ttest_1samp(dataHeart, popmean=115) # popmean = 통상적인(일반적인 즉 모집단의 평균)\n",
    "tvalue, pvalue\n",
    "# tvalue = 검정통계량 = tva\n",
    "# 검정 통계량은 “통계적 가설의 진위 여부를 검정하기 위해” 표본으로 부터 계산하는 통계량\n",
    "\n",
    "# stats.ttest_1samp()  = 한 집단의 평균 검정 \n",
    "\n",
    "# 여기서 말하는 불확실도는 두 표본그룹의 평균간 차이의 불확실도를 의미한다.\n",
    "# t-value의 의미는 위에서 확인한 ‘통계적 지표’와 같은 의미를 가진다. 즉,\n",
    "# t-value가 말하는 것은 “이 정도 차이나고~! 그러면서 오류는 이정도야~!”라고 할 수 있다.\n",
    "# 모평균을 따르는지 \n",
    "\n",
    "# 귀무가설이 참이라는 전제하에\n",
    "# 그보다더 극단치가 나올 확률\n",
    "# 귀무가설이 참일 때 검정통계량이 관측된 검정토계량 값보다 더 극단적인 값을 가질 확률.\n",
    "# 이런 검정통계량은 귀무가설이 참이란느 전제하에서 희박한 확률로 등장한다는 의미이므로\n",
    "# 즉 귀무가설이 참일 때 1종 오류를 범할 확률의 최대값 \n"
   ]
  },
  {
   "cell_type": "markdown",
   "id": "9f94bc0c",
   "metadata": {},
   "source": [
    "다음과 같이 10개의 전기기구의 \n",
    "수리시간에 대한 데이터를 얻었따.\n",
    "data : 159, 280, 101,121,224,222,379,179,250,170\n",
    "일반적으로 알려져있는 전기기구의 \n",
    "평균수리시간은 225시간이다.\n",
    "위의 10개의 표본 데이터가 \n",
    "모집단의 성향을 따르는 데이터\n",
    "인지 검정하시오.\n",
    "\n",
    "풀이\n",
    "H0:m=225\n",
    "H1:m!=225"
   ]
  },
  {
   "cell_type": "code",
   "execution_count": 11,
   "id": "dc4f24d8",
   "metadata": {},
   "outputs": [
    {
     "data": {
      "text/plain": [
       "(-0.6372260907821502, 0.5398469302862716)"
      ]
     },
     "execution_count": 11,
     "metadata": {},
     "output_type": "execute_result"
    }
   ],
   "source": [
    "data = [159, 280, 101, 121, 224, 222, 379, 179, 250, 170]\n",
    "tvalue, pvalue = stats.ttest_1samp(data, popmean=225)\n",
    "tvalue, pvalue\n",
    "#이 값으로 뭘 할 수 있는지 뭘 의미하는지 왜 사용하는지 "
   ]
  },
  {
   "cell_type": "markdown",
   "id": "72ce2ff2",
   "metadata": {},
   "source": [
    "검정통계량(t값): -0.64\n",
    "위의 검정통계량 통계량의 확률, 즉 p값이 0.53 이므로 귀무가설을\n",
    "기각할 수 없다.\n",
    "\n",
    "p 값이 충분히 크므로 10개의 표본데이터는 모집단의 성향을\n",
    "따른다고 할 수 있따."
   ]
  },
  {
   "cell_type": "code",
   "execution_count": 19,
   "id": "c91d5077",
   "metadata": {},
   "outputs": [
    {
     "data": {
      "text/plain": [
       "(0.9518421292304993, 0.6903241276741028)"
      ]
     },
     "execution_count": 19,
     "metadata": {},
     "output_type": "execute_result"
    }
   ],
   "source": [
    "dataList = [159, 280, 101, 121, 224, 222, 379, 179, 250, 170]\n",
    "stat, pvalue = stats.shapiro(dataList) #H0: 정규성을 따른다.\n",
    "stat, pvalue"
   ]
  },
  {
   "cell_type": "markdown",
   "id": "cfe192a9",
   "metadata": {},
   "source": [
    "p = 귀무가설ㅇ리 참이라는 가정하에서\n",
    "내가 가진 샘플이 나올 확률 (극단적인 값이 나올 확률)\n",
    "0.05 보다 낮으면 귀무가설 기각 "
   ]
  },
  {
   "cell_type": "code",
   "execution_count": 22,
   "id": "559d60f2",
   "metadata": {},
   "outputs": [],
   "source": [
    "stat, pvalue = stats.ttest_1samp(dataList, 225)"
   ]
  },
  {
   "cell_type": "code",
   "execution_count": 23,
   "id": "bb862056",
   "metadata": {},
   "outputs": [
    {
     "data": {
      "text/plain": [
       "(-0.6372260907821502, 0.5398469302862716)"
      ]
     },
     "execution_count": 23,
     "metadata": {},
     "output_type": "execute_result"
    }
   ],
   "source": [
    "stat, pvalue"
   ]
  },
  {
   "cell_type": "markdown",
   "id": "00cd6c18",
   "metadata": {},
   "source": [
    "==========================================================================================================================="
   ]
  },
  {
   "cell_type": "markdown",
   "id": "c1fbcae7",
   "metadata": {},
   "source": [
    "cats 데이터에서 고양이들의 평균 몸무게가 2.6kg(mean) 인지\n",
    "아닌지 통계적 검정을 통해 결과를 해석 해보자\n",
    "(양측검정, 유의수준:0.05)"
   ]
  },
  {
   "cell_type": "code",
   "execution_count": 25,
   "id": "b3474717",
   "metadata": {
    "scrolled": true
   },
   "outputs": [
    {
     "data": {
      "text/html": [
       "<div>\n",
       "<style scoped>\n",
       "    .dataframe tbody tr th:only-of-type {\n",
       "        vertical-align: middle;\n",
       "    }\n",
       "\n",
       "    .dataframe tbody tr th {\n",
       "        vertical-align: top;\n",
       "    }\n",
       "\n",
       "    .dataframe thead th {\n",
       "        text-align: right;\n",
       "    }\n",
       "</style>\n",
       "<table border=\"1\" class=\"dataframe\">\n",
       "  <thead>\n",
       "    <tr style=\"text-align: right;\">\n",
       "      <th></th>\n",
       "      <th>Sex</th>\n",
       "      <th>Bwt</th>\n",
       "      <th>Hwt</th>\n",
       "    </tr>\n",
       "  </thead>\n",
       "  <tbody>\n",
       "    <tr>\n",
       "      <th>0</th>\n",
       "      <td>F</td>\n",
       "      <td>2.0</td>\n",
       "      <td>7.0</td>\n",
       "    </tr>\n",
       "    <tr>\n",
       "      <th>1</th>\n",
       "      <td>F</td>\n",
       "      <td>2.0</td>\n",
       "      <td>7.4</td>\n",
       "    </tr>\n",
       "    <tr>\n",
       "      <th>2</th>\n",
       "      <td>F</td>\n",
       "      <td>2.0</td>\n",
       "      <td>9.5</td>\n",
       "    </tr>\n",
       "    <tr>\n",
       "      <th>3</th>\n",
       "      <td>F</td>\n",
       "      <td>2.1</td>\n",
       "      <td>7.2</td>\n",
       "    </tr>\n",
       "    <tr>\n",
       "      <th>4</th>\n",
       "      <td>F</td>\n",
       "      <td>2.1</td>\n",
       "      <td>7.3</td>\n",
       "    </tr>\n",
       "    <tr>\n",
       "      <th>...</th>\n",
       "      <td>...</td>\n",
       "      <td>...</td>\n",
       "      <td>...</td>\n",
       "    </tr>\n",
       "    <tr>\n",
       "      <th>139</th>\n",
       "      <td>M</td>\n",
       "      <td>3.7</td>\n",
       "      <td>11.0</td>\n",
       "    </tr>\n",
       "    <tr>\n",
       "      <th>140</th>\n",
       "      <td>M</td>\n",
       "      <td>3.8</td>\n",
       "      <td>14.8</td>\n",
       "    </tr>\n",
       "    <tr>\n",
       "      <th>141</th>\n",
       "      <td>M</td>\n",
       "      <td>3.8</td>\n",
       "      <td>16.8</td>\n",
       "    </tr>\n",
       "    <tr>\n",
       "      <th>142</th>\n",
       "      <td>M</td>\n",
       "      <td>3.9</td>\n",
       "      <td>14.4</td>\n",
       "    </tr>\n",
       "    <tr>\n",
       "      <th>143</th>\n",
       "      <td>M</td>\n",
       "      <td>3.9</td>\n",
       "      <td>20.5</td>\n",
       "    </tr>\n",
       "  </tbody>\n",
       "</table>\n",
       "<p>144 rows × 3 columns</p>\n",
       "</div>"
      ],
      "text/plain": [
       "    Sex  Bwt   Hwt\n",
       "0     F  2.0   7.0\n",
       "1     F  2.0   7.4\n",
       "2     F  2.0   9.5\n",
       "3     F  2.1   7.2\n",
       "4     F  2.1   7.3\n",
       "..   ..  ...   ...\n",
       "139   M  3.7  11.0\n",
       "140   M  3.8  14.8\n",
       "141   M  3.8  16.8\n",
       "142   M  3.9  14.4\n",
       "143   M  3.9  20.5\n",
       "\n",
       "[144 rows x 3 columns]"
      ]
     },
     "execution_count": 25,
     "metadata": {},
     "output_type": "execute_result"
    }
   ],
   "source": [
    "cats = pd.read_csv(\"cats.csv\")\n",
    "cats"
   ]
  },
  {
   "cell_type": "code",
   "execution_count": 26,
   "id": "3bd86082",
   "metadata": {},
   "outputs": [
    {
     "data": {
      "text/plain": [
       "(0.9518786668777466, 6.730248423991725e-05)"
      ]
     },
     "execution_count": 26,
     "metadata": {},
     "output_type": "execute_result"
    }
   ],
   "source": [
    "data_cat = cats[\"Bwt\"].to_list()\n",
    "# .shapiro(): 주어진 데이터가 정규성을 따른다는 것을 \n",
    "#  h0(귀무가설)로 보는 검정이다\n",
    "# pvalue 값이 0,05(유의수준) 보다 크면 \n",
    "# 정규성을 따른다고 볼 수 있따.\n",
    "stat, pvalue = stats.shapiro(data_cat) \n",
    "stat, pvalue"
   ]
  },
  {
   "cell_type": "markdown",
   "id": "6b8c81ae",
   "metadata": {},
   "source": [
    "### pvalue 가 0.05 보다 작다"
   ]
  },
  {
   "cell_type": "markdown",
   "id": "1f7767c3",
   "metadata": {},
   "source": [
    "원래는 (귀무가설을)기각할 수 없다라고 하지\n",
    "채택한다고 하지는 않는다.\n",
    "통계는 결국 확률이라\n",
    "그게 정답은 아니거든요.\n",
    "그럴 확률이 높다는거지\n",
    "그것이다 라는게 아니니까"
   ]
  },
  {
   "cell_type": "code",
   "execution_count": 28,
   "id": "6f9db5f8",
   "metadata": {},
   "outputs": [
    {
     "data": {
      "text/plain": [
       "(3.0564867998078107, 0.0026730362561723613)"
      ]
     },
     "execution_count": 28,
     "metadata": {},
     "output_type": "execute_result"
    }
   ],
   "source": [
    "# - stats.ttest_1samp() 한집단의 평균\n",
    "tvalue, pvalue = stats.ttest_1samp(cats.Bwt, popmean=2.6)\n",
    "# popmean = 주어진 평균\n",
    "tvalue, pvalue"
   ]
  },
  {
   "cell_type": "markdown",
   "id": "a9b951d9",
   "metadata": {},
   "source": [
    "pvalue 가 0.05 보다 작으므로 귀무가설로 기각한다."
   ]
  },
  {
   "cell_type": "code",
   "execution_count": null,
   "id": "05d081b6",
   "metadata": {},
   "outputs": [],
   "source": []
  }
 ],
 "metadata": {
  "kernelspec": {
   "display_name": "Python 3 (ipykernel)",
   "language": "python",
   "name": "python3"
  },
  "language_info": {
   "codemirror_mode": {
    "name": "ipython",
    "version": 3
   },
   "file_extension": ".py",
   "mimetype": "text/x-python",
   "name": "python",
   "nbconvert_exporter": "python",
   "pygments_lexer": "ipython3",
   "version": "3.9.12"
  }
 },
 "nbformat": 4,
 "nbformat_minor": 5
}

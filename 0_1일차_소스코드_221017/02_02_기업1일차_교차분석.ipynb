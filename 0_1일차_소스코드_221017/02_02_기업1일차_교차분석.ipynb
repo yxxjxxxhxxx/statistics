{
 "cells": [
  {
   "cell_type": "markdown",
   "id": "6303e4fc",
   "metadata": {
    "toc": true
   },
   "source": [
    "<h1>Table of Contents<span class=\"tocSkip\"></span></h1>\n",
    "<div class=\"toc\"><ul class=\"toc-item\"><li><span><a href=\"#적합도-검정\" data-toc-modified-id=\"적합도-검정-1\"><span class=\"toc-item-num\">1&nbsp;&nbsp;</span>적합도 검정</a></span></li><li><span><a href=\"#독립성-검정\" data-toc-modified-id=\"독립성-검정-2\"><span class=\"toc-item-num\">2&nbsp;&nbsp;</span>독립성 검정</a></span></li></ul></div>"
   ]
  },
  {
   "cell_type": "markdown",
   "id": "a718335f",
   "metadata": {},
   "source": [
    "## 적합도 검정\n",
    "- 적합성 검정은 각 범주에 따른 데이터의 빈도분포가 이론적으로 기대하는 분포를 따르는지를 검정하는 방법이다.\n",
    "- scipy.stats.chisquare로 검정\n",
    "\n",
    "<li>H0: 타이타닉호의 생존자 중 남자의 비율이 50%, 여자의 비율이 50%이다.\n",
    "<li>H1: 타이타닉호의 생존자 중 남자의 비율이 50%, 여자의 비율이 50%라고 할 수 없다."
   ]
  },
  {
   "cell_type": "code",
   "execution_count": 1,
   "id": "05144f74",
   "metadata": {},
   "outputs": [
    {
     "name": "stdout",
     "output_type": "stream",
     "text": [
      "<class 'pandas.core.frame.DataFrame'>\n",
      "RangeIndex: 891 entries, 0 to 890\n",
      "Data columns (total 11 columns):\n",
      " #   Column       Non-Null Count  Dtype  \n",
      "---  ------       --------------  -----  \n",
      " 0   survived     891 non-null    int64  \n",
      " 1   pclass       891 non-null    int64  \n",
      " 2   sex          891 non-null    object \n",
      " 3   age          714 non-null    float64\n",
      " 4   sibsp        891 non-null    int64  \n",
      " 5   parch        891 non-null    int64  \n",
      " 6   fare         891 non-null    float64\n",
      " 7   embarked     889 non-null    object \n",
      " 8   class        891 non-null    object \n",
      " 9   adult_male   891 non-null    bool   \n",
      " 10  embark_town  889 non-null    object \n",
      "dtypes: bool(1), float64(2), int64(4), object(4)\n",
      "memory usage: 70.6+ KB\n"
     ]
    }
   ],
   "source": [
    "import pandas as pd\n",
    "# 데이터 불러오기\n",
    "df = pd.read_csv(\"./data/titanic.csv\")\n",
    "# titinic 데이터의 구조 확인\n",
    "df.info()\n"
   ]
  },
  {
   "cell_type": "code",
   "execution_count": 2,
   "id": "4f004783",
   "metadata": {},
   "outputs": [
    {
     "data": {
      "text/plain": [
       "sex   \n",
       "female    233\n",
       "male      109\n",
       "dtype: int64"
      ]
     },
     "execution_count": 2,
     "metadata": {},
     "output_type": "execute_result"
    }
   ],
   "source": [
    "df_t = df[df['survived']==1]\n",
    "table= df_t[['sex']].value_counts()\n",
    "table"
   ]
  },
  {
   "cell_type": "code",
   "execution_count": 3,
   "id": "44dc8147",
   "metadata": {},
   "outputs": [
    {
     "name": "stdout",
     "output_type": "stream",
     "text": [
      "<적합도 검정>\n",
      " Power_divergenceResult(statistic=44.95906432748538, pvalue=2.0119672574477235e-11)\n"
     ]
    }
   ],
   "source": [
    "# 유의수준 0.05로 적합도 검정 수행\n",
    "from scipy.stats import chisquare\n",
    "chi = chisquare(table, f_exp=[171,171])\n",
    "print('<적합도 검정>\\n',chi)\n"
   ]
  },
  {
   "cell_type": "markdown",
   "id": "923f4f64",
   "metadata": {},
   "source": [
    "카이제곱 통계량은 약 44.96, p-value 값은 설정한 유의수준 0.05보다 작으므로 귀무가설을 기각한다. 즉, 유의수준 0.05하에 타이닉호에 탄 남자와 여자의 비율은 50:50이라고 할 수 없다."
   ]
  },
  {
   "cell_type": "markdown",
   "id": "4ae9ea53",
   "metadata": {},
   "source": [
    "## 독립성 검정\n",
    "- 독립성 검정은 모집단이 두 개의 변수 A,B에 의해 범주화되었을 때, 이 두 변수를 사이의 관계가 독립인지 아닌지를 검정하는 방법이다.\n",
    "-예) 환자의 비만유무와 대사성 질환의 유무가 주어졌을 때, 비만에 따른 질환 비율에 차이가 존재하는지 검정\n",
    "- chi2_contingency()"
   ]
  },
  {
   "cell_type": "code",
   "execution_count": 6,
   "id": "a9b3a429",
   "metadata": {},
   "outputs": [
    {
     "data": {
      "text/html": [
       "<div>\n",
       "<style scoped>\n",
       "    .dataframe tbody tr th:only-of-type {\n",
       "        vertical-align: middle;\n",
       "    }\n",
       "\n",
       "    .dataframe tbody tr th {\n",
       "        vertical-align: top;\n",
       "    }\n",
       "\n",
       "    .dataframe thead th {\n",
       "        text-align: right;\n",
       "    }\n",
       "</style>\n",
       "<table border=\"1\" class=\"dataframe\">\n",
       "  <thead>\n",
       "    <tr style=\"text-align: right;\">\n",
       "      <th>survived</th>\n",
       "      <th>0</th>\n",
       "      <th>1</th>\n",
       "    </tr>\n",
       "    <tr>\n",
       "      <th>class</th>\n",
       "      <th></th>\n",
       "      <th></th>\n",
       "    </tr>\n",
       "  </thead>\n",
       "  <tbody>\n",
       "    <tr>\n",
       "      <th>First</th>\n",
       "      <td>80</td>\n",
       "      <td>136</td>\n",
       "    </tr>\n",
       "    <tr>\n",
       "      <th>Second</th>\n",
       "      <td>97</td>\n",
       "      <td>87</td>\n",
       "    </tr>\n",
       "    <tr>\n",
       "      <th>Third</th>\n",
       "      <td>372</td>\n",
       "      <td>119</td>\n",
       "    </tr>\n",
       "  </tbody>\n",
       "</table>\n",
       "</div>"
      ],
      "text/plain": [
       "survived    0    1\n",
       "class             \n",
       "First      80  136\n",
       "Second     97   87\n",
       "Third     372  119"
      ]
     },
     "execution_count": 6,
     "metadata": {},
     "output_type": "execute_result"
    }
   ],
   "source": [
    "# 데이터 불러오기\n",
    "df = pd.read_csv(\"./data/titanic.csv\")\n",
    "table = pd.crosstab(df['class'], df['survived'])\n",
    "table"
   ]
  },
  {
   "cell_type": "markdown",
   "id": "cb4c66b0",
   "metadata": {},
   "source": [
    "tatanic 데이터에서 좌석등급(class)와 생존여부(survived)가 서로 독립인지 검정해보자.\n",
    "- H0: class변수와 sruvived 변수는 독립이다.\n",
    "- H1 : class변수와 sruvived 변수는 독립이 아니다."
   ]
  },
  {
   "cell_type": "code",
   "execution_count": 7,
   "id": "ebd1a358",
   "metadata": {},
   "outputs": [
    {
     "name": "stdout",
     "output_type": "stream",
     "text": [
      "Statistic: 102.88898875696056\n",
      "p-value: 4.549251711298793e-23\n",
      "df: 2\n",
      "expect: \n",
      " [[133.09090909  82.90909091]\n",
      " [113.37373737  70.62626263]\n",
      " [302.53535354 188.46464646]]\n"
     ]
    }
   ],
   "source": [
    "# 카이제곱 검정을 통한 독립성 검정 수행\n",
    "from scipy.stats import chi2_contingency\n",
    "chi, p, df, expect = chi2_contingency(table) \n",
    "print('Statistic:', chi)\n",
    "print('p-value:', p)\n",
    "print('df:', df)\n",
    "print('expect: \\n', expect)"
   ]
  },
  {
   "cell_type": "markdown",
   "id": "71b94e00",
   "metadata": {},
   "source": [
    "독립성 검정결과 p-value가 유의수준0.05보다 작으므로 귀무가설을 기각한다. 즉, 좌석 등급과 생존은 유의수준 0.05 하에서 독립이 아니라고 할 수 있다."
   ]
  }
 ],
 "metadata": {
  "kernelspec": {
   "display_name": "Python 3 (ipykernel)",
   "language": "python",
   "name": "python3"
  },
  "language_info": {
   "codemirror_mode": {
    "name": "ipython",
    "version": 3
   },
   "file_extension": ".py",
   "mimetype": "text/x-python",
   "name": "python",
   "nbconvert_exporter": "python",
   "pygments_lexer": "ipython3",
   "version": "3.8.13"
  },
  "toc": {
   "base_numbering": 1,
   "nav_menu": {},
   "number_sections": true,
   "sideBar": true,
   "skip_h1_title": false,
   "title_cell": "Table of Contents",
   "title_sidebar": "Contents",
   "toc_cell": true,
   "toc_position": {},
   "toc_section_display": true,
   "toc_window_display": true
  }
 },
 "nbformat": 4,
 "nbformat_minor": 5
}

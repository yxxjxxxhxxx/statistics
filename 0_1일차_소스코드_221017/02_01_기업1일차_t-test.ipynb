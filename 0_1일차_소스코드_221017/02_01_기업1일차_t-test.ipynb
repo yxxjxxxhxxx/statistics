{
 "cells": [
  {
   "cell_type": "markdown",
   "id": "64826b19",
   "metadata": {},
   "source": [
    "# 추론통계학"
   ]
  },
  {
   "cell_type": "markdown",
   "id": "45ed408f",
   "metadata": {},
   "source": [
    "정규분포\n",
    "\n",
    "도수(度數) 분포 곡선이 평균값을 중앙으로 하여 좌우 대칭으로 종 모양을 이루는 분포."
   ]
  },
  {
   "cell_type": "markdown",
   "id": "19bb3776",
   "metadata": {},
   "source": [
    "[문제] 다음과 같이 10개의 전기기구의 수리시간에 대한 데이터를 얻었다. 전기기구를 고치는 데까지 걸리는 시간은 정규분포를 따른다고 할 수 있다. (단위:시간)\n",
    "\n",
    "159, 280, 101, 121, 224, 222, 379, 179, 250, 170\n",
    "\n",
    "<ul>\n",
    "<li>(a) 평균 수리시간이 225시간이라고 할 수 있는지 알고자 한다. 적절한 통계적 가설을 세우시오.</li>\n",
    "<li>(b) 평균, 중앙값, 분산, 표준 편차를 구하시오.</li>\n",
    "<li>(c) 평균 수리시간에 대한 95% 신뢰구간을 구하시오.</li>\n",
    "<li>(d) (a) 에서 세운 가설에 대해 유의수준 a=10.05로 검정하고 결론을 쓰시고.</li>\n",
    "<li>(e) 평균 수리시간에 대한 90%신뢰 구간을 구하시오.</li>\n",
    "<li>(f) 수리시간 값에 log를 취한 변수 Y를 생성하시오.</li>\n",
    "<li>(g) Y의 평균과 분산을 구하시오. </li>\n",
    "</ul>"
   ]
  },
  {
   "cell_type": "code",
   "execution_count": 1,
   "id": "18a6ebf1",
   "metadata": {},
   "outputs": [],
   "source": [
    "import numpy as np\n",
    "import math as m\n",
    "import pandas as pd\n",
    "import seaborn as sns\n",
    "from matplotlib import pyplot as plt\n",
    "import scipy as sp\n",
    "import statsmodels.formula.api as smf\n",
    "import statsmodels.api as sm\n",
    "from statsmodels.stats.proportion import proportions_ztest"
   ]
  },
  {
   "cell_type": "code",
   "execution_count": 2,
   "id": "89e75cbe",
   "metadata": {},
   "outputs": [],
   "source": [
    "dataList = [159, 280, 101, 121, 224, 222, 379, 179, 250, 170]"
   ]
  },
  {
   "cell_type": "markdown",
   "id": "9a8f81fc",
   "metadata": {},
   "source": [
    "(a)<br>\n",
    "H0 : 전기기구의 평균 수리시간은 255시간이다.<br>\n",
    "H1 : 전기기구의 평균 수리시간은 225시간이 아니다."
   ]
  },
  {
   "cell_type": "code",
   "execution_count": 3,
   "id": "daeb649e",
   "metadata": {},
   "outputs": [
    {
     "name": "stdout",
     "output_type": "stream",
     "text": [
      "mean: 208.5\n",
      "median: 200.5\n",
      "var: 6704.722222222223\n",
      "std: 81.88236820111044\n"
     ]
    }
   ],
   "source": [
    "#(b)\n",
    "m=np.mean(dataList)\n",
    "print(\"mean:\",m)\n",
    "print(\"median:\",np.median(dataList))\n",
    "print(\"var:\",np.var(dataList,ddof=1))\n",
    "print(\"std:\",np.std(dataList,ddof=1))"
   ]
  },
  {
   "cell_type": "code",
   "execution_count": 4,
   "id": "5fe8a888",
   "metadata": {},
   "outputs": [
    {
     "data": {
      "text/plain": [
       "[<matplotlib.lines.Line2D at 0x14d775651f0>]"
      ]
     },
     "execution_count": 4,
     "metadata": {},
     "output_type": "execute_result"
    },
    {
     "data": {
      "image/png": "[encoded data removed]",
      "text/plain": [
       "<Figure size 432x288 with 1 Axes>"
      ]
     },
     "metadata": {
      "needs_background": "light"
     },
     "output_type": "display_data"
    }
   ],
   "source": [
    "#정규분포그리기\n",
    "#mu = 0(255지만~표준Z로 변환해 0)\n",
    "#sigma = 1(표준편차 : 81.88236820111044)\n",
    "\n",
    "from scipy.special import erf\n",
    "\n",
    "plt.figure(1)\n",
    "plt.figurefigsize=(10,6)\n",
    "\n",
    "x=np.linspace(-5,5,1000)  #X축 구간설정\n",
    "mu=0.0\n",
    "sigma = 1.0\n",
    "\n",
    "gaussian_f = (1/(sigma *np.sqrt(2*np.pi)))*np.exp(-(x-mu)**2/(2*sigma*sigma))\n",
    "\n",
    "#pdf_gaussian=map(gaussian_f, dataList)\n",
    "\n",
    "plt.plot(x,gaussian_f, c='b', label =\"Gaussian Distribution, N(0,1)\")"
   ]
  },
  {
   "cell_type": "markdown",
   "id": "5a41e2a3",
   "metadata": {},
   "source": [
    "<h3>신뢰구간 예제:</h3>\n",
    "<p> 어느 대학교 남학생 47명의 평균 키가 175cm,, 표준 편차가 5cm이었다. 이 대학교 남학생들의 키에 대한 모평균의 신뢰도 95% 신뢰구간을 구하라.</p>"
   ]
  },
  {
   "cell_type": "code",
   "execution_count": 5,
   "id": "07bf712b",
   "metadata": {},
   "outputs": [
    {
     "ename": "NameError",
     "evalue": "name 'stats' is not defined",
     "output_type": "error",
     "traceback": [
      "\u001b[1;31m---------------------------------------------------------------------------\u001b[0m",
      "\u001b[1;31mNameError\u001b[0m                                 Traceback (most recent call last)",
      "Input \u001b[1;32mIn [5]\u001b[0m, in \u001b[0;36m<cell line: 10>\u001b[1;34m()\u001b[0m\n\u001b[0;32m      7\u001b[0m n \u001b[38;5;241m=\u001b[39m \u001b[38;5;241m47\u001b[39m\n\u001b[0;32m      9\u001b[0m \u001b[38;5;66;03m#z통계량 : 1.96\u001b[39;00m\n\u001b[1;32m---> 10\u001b[0m z_95_1 \u001b[38;5;241m=\u001b[39m \u001b[43mstats\u001b[49m\u001b[38;5;241m.\u001b[39mnorm\u001b[38;5;241m.\u001b[39mppf(\u001b[38;5;241m1\u001b[39m\u001b[38;5;241m-\u001b[39m(\u001b[38;5;241m1\u001b[39m\u001b[38;5;241m-\u001b[39m\u001b[38;5;241m0.95\u001b[39m)\u001b[38;5;241m/\u001b[39m\u001b[38;5;241m2\u001b[39m)  \u001b[38;5;66;03m#신뢰구간\u001b[39;00m\n\u001b[0;32m     11\u001b[0m \u001b[38;5;28mprint\u001b[39m(\u001b[38;5;124m\"\u001b[39m\u001b[38;5;124mz_95_1 : \u001b[39m\u001b[38;5;124m\"\u001b[39m, z_95_1)\n\u001b[0;32m     13\u001b[0m \u001b[38;5;66;03m#신뢰구간 계산\u001b[39;00m\n",
      "\u001b[1;31mNameError\u001b[0m: name 'stats' is not defined"
     ]
    }
   ],
   "source": [
    "import numpy as np\n",
    "import math\n",
    "\n",
    "#모평균, 모표준편차, 표본 수\n",
    "sd = 5\n",
    "mu = 175\n",
    "n = 47\n",
    "\n",
    "#z통계량 : 1.96\n",
    "z_95_1 = stats.norm.ppf(1-(1-0.95)/2)  #신뢰구간\n",
    "print(\"z_95_1 : \", z_95_1)\n",
    "\n",
    "#신뢰구간 계산\n",
    "L_value = round(mu-z_95_1 *(sd/math.sqrt(n)), 2) #z 공식을 이용해 -2편차에 해당하는 평균값(소수점2째자리에서 반올림)을 구함\n",
    "H_value = round(mu+z_95_1 *(sd/math.sqrt(n)), 2)\n",
    "\n",
    "print('신뢰구간:', L_value, '~', H_value)\n",
    "print('{} < {} < {}'.format(L_value, mu, H_value ))"
   ]
  },
  {
   "cell_type": "code",
   "execution_count": null,
   "id": "17e41ee0",
   "metadata": {},
   "outputs": [],
   "source": [
    "#한글처리를 위한코드\n",
    "from matplotlib import rc, font_manager\n",
    "font_name = font_manager.FontProperties(fname=\"c:/Windows/Fonts/malgun.ttf\").get_name()\n",
    "plt.rcParams[\"font.family\"] = font_name\n",
    "#시각화\n",
    "standard_norm = stats.norm(175,5) #평균이 175이고, 편차가 5인 정규분포를 따르른 집단\n",
    "\n",
    "x=np.linspace(120, 230, 100) #최소, 최대, 간격\n",
    "\n",
    "plt.vlines(L_value, 0, standard_norm.pdf(L_value), color='r', lw=0.5) #stats.norm.pdf (x, loc=mean, scale=std_dev)\n",
    "plt.vlines(H_value, 0, standard_norm.pdf(L_value), color='r', lw=0.5) #stats.norm.pdf (x, loc=mean, scale=std_dev)\n",
    "plt.plot(x, stanard_norm.pdf(x), 'b--', lw=2, alpha=0.6, label='norm pdf')\n",
    "\n",
    "plt.title('신뢰구간 시각화') #한글처리설정추가해야함\n",
    "plt.legend()\n",
    "plt.show()"
   ]
  },
  {
   "cell_type": "code",
   "execution_count": null,
   "id": "cada42f1",
   "metadata": {},
   "outputs": [],
   "source": [
    "#(c)\n",
    "n=len(dataList)\n",
    "sd=np.std(dataList,ddof=1)\n",
    "\n",
    "cri=sp.stats.norm.ppf(loc=0,scale=1,q=0.975) #신뢰구간 \n",
    "\n",
    "lower=m-cri*sd/np.sqrt(n) #하한값\n",
    "upper=m+cri*sd/np.sqrt(n)  #상한값\n",
    "print(lower); print(upper)"
   ]
  },
  {
   "cell_type": "markdown",
   "id": "95e6a58a",
   "metadata": {},
   "source": [
    "## 평균검정"
   ]
  },
  {
   "cell_type": "code",
   "execution_count": null,
   "id": "4fed4cbc",
   "metadata": {},
   "outputs": [],
   "source": [
    "import scipy.stats as stats\n",
    "\n",
    "stat, pvalue = stats.shapiro(dataList)\n",
    "print(stat, pvalue)\n",
    "print(f'[정규성검정] H0 - 정규성을 만족 : {pvalue>0.05}')"
   ]
  },
  {
   "cell_type": "code",
   "execution_count": null,
   "id": "a7922ac9",
   "metadata": {},
   "outputs": [],
   "source": [
    "#(d)\n",
    "sp.stats.ttest_1samp(dataList,225)\n",
    "# 검정통계량=-0.637 이고pvalue=0.54>0.05 이므로 유의수준 0.05에서 귀무가설을 기각하지 못한다.\n",
    "# 따라서 유의수준 0.05에서 전기기구의 평균 수리시간은 225시간이라고 할 수 있다."
   ]
  },
  {
   "cell_type": "code",
   "execution_count": null,
   "id": "a0b6f7e4",
   "metadata": {},
   "outputs": [],
   "source": [
    "#(e)\n",
    "cri=sp.stats.norm.ppf(loc=0,scale=1,q=0.95)\n",
    "lower=m-cri*sd/np.sqrt(n)\n",
    "upper=m+cri*sd/np.sqrt(n)\n",
    "print(lower); print(upper)"
   ]
  },
  {
   "cell_type": "code",
   "execution_count": null,
   "id": "66cf2b2c",
   "metadata": {},
   "outputs": [],
   "source": [
    "#(f)\n",
    "y=np.log1p(dataList)\n",
    "y"
   ]
  },
  {
   "cell_type": "code",
   "execution_count": null,
   "id": "26998b5b",
   "metadata": {},
   "outputs": [],
   "source": [
    " #(g)\n",
    "print(\"mean:\",np.mean(y))\n",
    "print(\"var:\",np.var(y,ddof=1))"
   ]
  },
  {
   "cell_type": "markdown",
   "id": "d698cf4a",
   "metadata": {
    "toc": true
   },
   "source": [
    "<h1>Table of Contents<span class=\"tocSkip\"></span></h1>\n",
    "<div class=\"toc\"><ul class=\"toc-item\"><li><span><a href=\"#일표본-t-test\" data-toc-modified-id=\"일표본-t-test-1\"><span class=\"toc-item-num\">1&nbsp;&nbsp;</span>일표본 t-test</a></span></li><li><span><a href=\"#대응표본-t-test\" data-toc-modified-id=\"대응표본-t-test-2\"><span class=\"toc-item-num\">2&nbsp;&nbsp;</span>대응표본 t-test</a></span></li><li><span><a href=\"#독립표본-t-test\" data-toc-modified-id=\"독립표본-t-test-3\"><span class=\"toc-item-num\">3&nbsp;&nbsp;</span>독립표본 t-test</a></span></li></ul></div>"
   ]
  },
  {
   "cell_type": "markdown",
   "id": "8c06e962",
   "metadata": {},
   "source": [
    "# 일표본 t-test"
   ]
  },
  {
   "cell_type": "markdown",
   "id": "450b366f",
   "metadata": {},
   "source": [
    " cats 데이터에서 고양이들의 평균몸무게가 2.6kg인지 아닌지 통계적 검정을 수행하고, 결과를 해석해보자(양측검정, 유의수준 : 0.05)."
   ]
  },
  {
   "cell_type": "code",
   "execution_count": 8,
   "id": "dfdd408e",
   "metadata": {
    "scrolled": true
   },
   "outputs": [
    {
     "ename": "FileNotFoundError",
     "evalue": "[Errno 2] No such file or directory: './data/cats.csv'",
     "output_type": "error",
     "traceback": [
      "\u001b[1;31m---------------------------------------------------------------------------\u001b[0m",
      "\u001b[1;31mFileNotFoundError\u001b[0m                         Traceback (most recent call last)",
      "Input \u001b[1;32mIn [8]\u001b[0m, in \u001b[0;36m<cell line: 2>\u001b[1;34m()\u001b[0m\n\u001b[0;32m      1\u001b[0m \u001b[38;5;28;01mimport\u001b[39;00m \u001b[38;5;21;01mpandas\u001b[39;00m \u001b[38;5;28;01mas\u001b[39;00m \u001b[38;5;21;01mpd\u001b[39;00m\n\u001b[1;32m----> 2\u001b[0m cats\u001b[38;5;241m=\u001b[39m\u001b[43mpd\u001b[49m\u001b[38;5;241;43m.\u001b[39;49m\u001b[43mread_csv\u001b[49m\u001b[43m(\u001b[49m\u001b[38;5;124;43m'\u001b[39;49m\u001b[38;5;124;43m./data/cats.csv\u001b[39;49m\u001b[38;5;124;43m'\u001b[39;49m\u001b[43m)\u001b[49m\n\u001b[0;32m      3\u001b[0m cats\n",
      "File \u001b[1;32m~\\anaconda3\\lib\\site-packages\\pandas\\util\\_decorators.py:311\u001b[0m, in \u001b[0;36mdeprecate_nonkeyword_arguments.<locals>.decorate.<locals>.wrapper\u001b[1;34m(*args, **kwargs)\u001b[0m\n\u001b[0;32m    305\u001b[0m \u001b[38;5;28;01mif\u001b[39;00m \u001b[38;5;28mlen\u001b[39m(args) \u001b[38;5;241m>\u001b[39m num_allow_args:\n\u001b[0;32m    306\u001b[0m     warnings\u001b[38;5;241m.\u001b[39mwarn(\n\u001b[0;32m    307\u001b[0m         msg\u001b[38;5;241m.\u001b[39mformat(arguments\u001b[38;5;241m=\u001b[39marguments),\n\u001b[0;32m    308\u001b[0m         \u001b[38;5;167;01mFutureWarning\u001b[39;00m,\n\u001b[0;32m    309\u001b[0m         stacklevel\u001b[38;5;241m=\u001b[39mstacklevel,\n\u001b[0;32m    310\u001b[0m     )\n\u001b[1;32m--> 311\u001b[0m \u001b[38;5;28;01mreturn\u001b[39;00m func(\u001b[38;5;241m*\u001b[39margs, \u001b[38;5;241m*\u001b[39m\u001b[38;5;241m*\u001b[39mkwargs)\n",
      "File \u001b[1;32m~\\anaconda3\\lib\\site-packages\\pandas\\io\\parsers\\readers.py:680\u001b[0m, in \u001b[0;36mread_csv\u001b[1;34m(filepath_or_buffer, sep, delimiter, header, names, index_col, usecols, squeeze, prefix, mangle_dupe_cols, dtype, engine, converters, true_values, false_values, skipinitialspace, skiprows, skipfooter, nrows, na_values, keep_default_na, na_filter, verbose, skip_blank_lines, parse_dates, infer_datetime_format, keep_date_col, date_parser, dayfirst, cache_dates, iterator, chunksize, compression, thousands, decimal, lineterminator, quotechar, quoting, doublequote, escapechar, comment, encoding, encoding_errors, dialect, error_bad_lines, warn_bad_lines, on_bad_lines, delim_whitespace, low_memory, memory_map, float_precision, storage_options)\u001b[0m\n\u001b[0;32m    665\u001b[0m kwds_defaults \u001b[38;5;241m=\u001b[39m _refine_defaults_read(\n\u001b[0;32m    666\u001b[0m     dialect,\n\u001b[0;32m    667\u001b[0m     delimiter,\n\u001b[1;32m   (...)\u001b[0m\n\u001b[0;32m    676\u001b[0m     defaults\u001b[38;5;241m=\u001b[39m{\u001b[38;5;124m\"\u001b[39m\u001b[38;5;124mdelimiter\u001b[39m\u001b[38;5;124m\"\u001b[39m: \u001b[38;5;124m\"\u001b[39m\u001b[38;5;124m,\u001b[39m\u001b[38;5;124m\"\u001b[39m},\n\u001b[0;32m    677\u001b[0m )\n\u001b[0;32m    678\u001b[0m kwds\u001b[38;5;241m.\u001b[39mupdate(kwds_defaults)\n\u001b[1;32m--> 680\u001b[0m \u001b[38;5;28;01mreturn\u001b[39;00m \u001b[43m_read\u001b[49m\u001b[43m(\u001b[49m\u001b[43mfilepath_or_buffer\u001b[49m\u001b[43m,\u001b[49m\u001b[43m \u001b[49m\u001b[43mkwds\u001b[49m\u001b[43m)\u001b[49m\n",
      "File \u001b[1;32m~\\anaconda3\\lib\\site-packages\\pandas\\io\\parsers\\readers.py:575\u001b[0m, in \u001b[0;36m_read\u001b[1;34m(filepath_or_buffer, kwds)\u001b[0m\n\u001b[0;32m    572\u001b[0m _validate_names(kwds\u001b[38;5;241m.\u001b[39mget(\u001b[38;5;124m\"\u001b[39m\u001b[38;5;124mnames\u001b[39m\u001b[38;5;124m\"\u001b[39m, \u001b[38;5;28;01mNone\u001b[39;00m))\n\u001b[0;32m    574\u001b[0m \u001b[38;5;66;03m# Create the parser.\u001b[39;00m\n\u001b[1;32m--> 575\u001b[0m parser \u001b[38;5;241m=\u001b[39m TextFileReader(filepath_or_buffer, \u001b[38;5;241m*\u001b[39m\u001b[38;5;241m*\u001b[39mkwds)\n\u001b[0;32m    577\u001b[0m \u001b[38;5;28;01mif\u001b[39;00m chunksize \u001b[38;5;129;01mor\u001b[39;00m iterator:\n\u001b[0;32m    578\u001b[0m     \u001b[38;5;28;01mreturn\u001b[39;00m parser\n",
      "File \u001b[1;32m~\\anaconda3\\lib\\site-packages\\pandas\\io\\parsers\\readers.py:933\u001b[0m, in \u001b[0;36mTextFileReader.__init__\u001b[1;34m(self, f, engine, **kwds)\u001b[0m\n\u001b[0;32m    930\u001b[0m     \u001b[38;5;28mself\u001b[39m\u001b[38;5;241m.\u001b[39moptions[\u001b[38;5;124m\"\u001b[39m\u001b[38;5;124mhas_index_names\u001b[39m\u001b[38;5;124m\"\u001b[39m] \u001b[38;5;241m=\u001b[39m kwds[\u001b[38;5;124m\"\u001b[39m\u001b[38;5;124mhas_index_names\u001b[39m\u001b[38;5;124m\"\u001b[39m]\n\u001b[0;32m    932\u001b[0m \u001b[38;5;28mself\u001b[39m\u001b[38;5;241m.\u001b[39mhandles: IOHandles \u001b[38;5;241m|\u001b[39m \u001b[38;5;28;01mNone\u001b[39;00m \u001b[38;5;241m=\u001b[39m \u001b[38;5;28;01mNone\u001b[39;00m\n\u001b[1;32m--> 933\u001b[0m \u001b[38;5;28mself\u001b[39m\u001b[38;5;241m.\u001b[39m_engine \u001b[38;5;241m=\u001b[39m \u001b[38;5;28;43mself\u001b[39;49m\u001b[38;5;241;43m.\u001b[39;49m\u001b[43m_make_engine\u001b[49m\u001b[43m(\u001b[49m\u001b[43mf\u001b[49m\u001b[43m,\u001b[49m\u001b[43m \u001b[49m\u001b[38;5;28;43mself\u001b[39;49m\u001b[38;5;241;43m.\u001b[39;49m\u001b[43mengine\u001b[49m\u001b[43m)\u001b[49m\n",
      "File \u001b[1;32m~\\anaconda3\\lib\\site-packages\\pandas\\io\\parsers\\readers.py:1217\u001b[0m, in \u001b[0;36mTextFileReader._make_engine\u001b[1;34m(self, f, engine)\u001b[0m\n\u001b[0;32m   1213\u001b[0m     mode \u001b[38;5;241m=\u001b[39m \u001b[38;5;124m\"\u001b[39m\u001b[38;5;124mrb\u001b[39m\u001b[38;5;124m\"\u001b[39m\n\u001b[0;32m   1214\u001b[0m \u001b[38;5;66;03m# error: No overload variant of \"get_handle\" matches argument types\u001b[39;00m\n\u001b[0;32m   1215\u001b[0m \u001b[38;5;66;03m# \"Union[str, PathLike[str], ReadCsvBuffer[bytes], ReadCsvBuffer[str]]\"\u001b[39;00m\n\u001b[0;32m   1216\u001b[0m \u001b[38;5;66;03m# , \"str\", \"bool\", \"Any\", \"Any\", \"Any\", \"Any\", \"Any\"\u001b[39;00m\n\u001b[1;32m-> 1217\u001b[0m \u001b[38;5;28mself\u001b[39m\u001b[38;5;241m.\u001b[39mhandles \u001b[38;5;241m=\u001b[39m \u001b[43mget_handle\u001b[49m\u001b[43m(\u001b[49m\u001b[43m  \u001b[49m\u001b[38;5;66;43;03m# type: ignore[call-overload]\u001b[39;49;00m\n\u001b[0;32m   1218\u001b[0m \u001b[43m    \u001b[49m\u001b[43mf\u001b[49m\u001b[43m,\u001b[49m\n\u001b[0;32m   1219\u001b[0m \u001b[43m    \u001b[49m\u001b[43mmode\u001b[49m\u001b[43m,\u001b[49m\n\u001b[0;32m   1220\u001b[0m \u001b[43m    \u001b[49m\u001b[43mencoding\u001b[49m\u001b[38;5;241;43m=\u001b[39;49m\u001b[38;5;28;43mself\u001b[39;49m\u001b[38;5;241;43m.\u001b[39;49m\u001b[43moptions\u001b[49m\u001b[38;5;241;43m.\u001b[39;49m\u001b[43mget\u001b[49m\u001b[43m(\u001b[49m\u001b[38;5;124;43m\"\u001b[39;49m\u001b[38;5;124;43mencoding\u001b[39;49m\u001b[38;5;124;43m\"\u001b[39;49m\u001b[43m,\u001b[49m\u001b[43m \u001b[49m\u001b[38;5;28;43;01mNone\u001b[39;49;00m\u001b[43m)\u001b[49m\u001b[43m,\u001b[49m\n\u001b[0;32m   1221\u001b[0m \u001b[43m    \u001b[49m\u001b[43mcompression\u001b[49m\u001b[38;5;241;43m=\u001b[39;49m\u001b[38;5;28;43mself\u001b[39;49m\u001b[38;5;241;43m.\u001b[39;49m\u001b[43moptions\u001b[49m\u001b[38;5;241;43m.\u001b[39;49m\u001b[43mget\u001b[49m\u001b[43m(\u001b[49m\u001b[38;5;124;43m\"\u001b[39;49m\u001b[38;5;124;43mcompression\u001b[39;49m\u001b[38;5;124;43m\"\u001b[39;49m\u001b[43m,\u001b[49m\u001b[43m \u001b[49m\u001b[38;5;28;43;01mNone\u001b[39;49;00m\u001b[43m)\u001b[49m\u001b[43m,\u001b[49m\n\u001b[0;32m   1222\u001b[0m \u001b[43m    \u001b[49m\u001b[43mmemory_map\u001b[49m\u001b[38;5;241;43m=\u001b[39;49m\u001b[38;5;28;43mself\u001b[39;49m\u001b[38;5;241;43m.\u001b[39;49m\u001b[43moptions\u001b[49m\u001b[38;5;241;43m.\u001b[39;49m\u001b[43mget\u001b[49m\u001b[43m(\u001b[49m\u001b[38;5;124;43m\"\u001b[39;49m\u001b[38;5;124;43mmemory_map\u001b[39;49m\u001b[38;5;124;43m\"\u001b[39;49m\u001b[43m,\u001b[49m\u001b[43m \u001b[49m\u001b[38;5;28;43;01mFalse\u001b[39;49;00m\u001b[43m)\u001b[49m\u001b[43m,\u001b[49m\n\u001b[0;32m   1223\u001b[0m \u001b[43m    \u001b[49m\u001b[43mis_text\u001b[49m\u001b[38;5;241;43m=\u001b[39;49m\u001b[43mis_text\u001b[49m\u001b[43m,\u001b[49m\n\u001b[0;32m   1224\u001b[0m \u001b[43m    \u001b[49m\u001b[43merrors\u001b[49m\u001b[38;5;241;43m=\u001b[39;49m\u001b[38;5;28;43mself\u001b[39;49m\u001b[38;5;241;43m.\u001b[39;49m\u001b[43moptions\u001b[49m\u001b[38;5;241;43m.\u001b[39;49m\u001b[43mget\u001b[49m\u001b[43m(\u001b[49m\u001b[38;5;124;43m\"\u001b[39;49m\u001b[38;5;124;43mencoding_errors\u001b[39;49m\u001b[38;5;124;43m\"\u001b[39;49m\u001b[43m,\u001b[49m\u001b[43m \u001b[49m\u001b[38;5;124;43m\"\u001b[39;49m\u001b[38;5;124;43mstrict\u001b[39;49m\u001b[38;5;124;43m\"\u001b[39;49m\u001b[43m)\u001b[49m\u001b[43m,\u001b[49m\n\u001b[0;32m   1225\u001b[0m \u001b[43m    \u001b[49m\u001b[43mstorage_options\u001b[49m\u001b[38;5;241;43m=\u001b[39;49m\u001b[38;5;28;43mself\u001b[39;49m\u001b[38;5;241;43m.\u001b[39;49m\u001b[43moptions\u001b[49m\u001b[38;5;241;43m.\u001b[39;49m\u001b[43mget\u001b[49m\u001b[43m(\u001b[49m\u001b[38;5;124;43m\"\u001b[39;49m\u001b[38;5;124;43mstorage_options\u001b[39;49m\u001b[38;5;124;43m\"\u001b[39;49m\u001b[43m,\u001b[49m\u001b[43m \u001b[49m\u001b[38;5;28;43;01mNone\u001b[39;49;00m\u001b[43m)\u001b[49m\u001b[43m,\u001b[49m\n\u001b[0;32m   1226\u001b[0m \u001b[43m\u001b[49m\u001b[43m)\u001b[49m\n\u001b[0;32m   1227\u001b[0m \u001b[38;5;28;01massert\u001b[39;00m \u001b[38;5;28mself\u001b[39m\u001b[38;5;241m.\u001b[39mhandles \u001b[38;5;129;01mis\u001b[39;00m \u001b[38;5;129;01mnot\u001b[39;00m \u001b[38;5;28;01mNone\u001b[39;00m\n\u001b[0;32m   1228\u001b[0m f \u001b[38;5;241m=\u001b[39m \u001b[38;5;28mself\u001b[39m\u001b[38;5;241m.\u001b[39mhandles\u001b[38;5;241m.\u001b[39mhandle\n",
      "File \u001b[1;32m~\\anaconda3\\lib\\site-packages\\pandas\\io\\common.py:789\u001b[0m, in \u001b[0;36mget_handle\u001b[1;34m(path_or_buf, mode, encoding, compression, memory_map, is_text, errors, storage_options)\u001b[0m\n\u001b[0;32m    784\u001b[0m \u001b[38;5;28;01melif\u001b[39;00m \u001b[38;5;28misinstance\u001b[39m(handle, \u001b[38;5;28mstr\u001b[39m):\n\u001b[0;32m    785\u001b[0m     \u001b[38;5;66;03m# Check whether the filename is to be opened in binary mode.\u001b[39;00m\n\u001b[0;32m    786\u001b[0m     \u001b[38;5;66;03m# Binary mode does not support 'encoding' and 'newline'.\u001b[39;00m\n\u001b[0;32m    787\u001b[0m     \u001b[38;5;28;01mif\u001b[39;00m ioargs\u001b[38;5;241m.\u001b[39mencoding \u001b[38;5;129;01mand\u001b[39;00m \u001b[38;5;124m\"\u001b[39m\u001b[38;5;124mb\u001b[39m\u001b[38;5;124m\"\u001b[39m \u001b[38;5;129;01mnot\u001b[39;00m \u001b[38;5;129;01min\u001b[39;00m ioargs\u001b[38;5;241m.\u001b[39mmode:\n\u001b[0;32m    788\u001b[0m         \u001b[38;5;66;03m# Encoding\u001b[39;00m\n\u001b[1;32m--> 789\u001b[0m         handle \u001b[38;5;241m=\u001b[39m \u001b[38;5;28;43mopen\u001b[39;49m\u001b[43m(\u001b[49m\n\u001b[0;32m    790\u001b[0m \u001b[43m            \u001b[49m\u001b[43mhandle\u001b[49m\u001b[43m,\u001b[49m\n\u001b[0;32m    791\u001b[0m \u001b[43m            \u001b[49m\u001b[43mioargs\u001b[49m\u001b[38;5;241;43m.\u001b[39;49m\u001b[43mmode\u001b[49m\u001b[43m,\u001b[49m\n\u001b[0;32m    792\u001b[0m \u001b[43m            \u001b[49m\u001b[43mencoding\u001b[49m\u001b[38;5;241;43m=\u001b[39;49m\u001b[43mioargs\u001b[49m\u001b[38;5;241;43m.\u001b[39;49m\u001b[43mencoding\u001b[49m\u001b[43m,\u001b[49m\n\u001b[0;32m    793\u001b[0m \u001b[43m            \u001b[49m\u001b[43merrors\u001b[49m\u001b[38;5;241;43m=\u001b[39;49m\u001b[43merrors\u001b[49m\u001b[43m,\u001b[49m\n\u001b[0;32m    794\u001b[0m \u001b[43m            \u001b[49m\u001b[43mnewline\u001b[49m\u001b[38;5;241;43m=\u001b[39;49m\u001b[38;5;124;43m\"\u001b[39;49m\u001b[38;5;124;43m\"\u001b[39;49m\u001b[43m,\u001b[49m\n\u001b[0;32m    795\u001b[0m \u001b[43m        \u001b[49m\u001b[43m)\u001b[49m\n\u001b[0;32m    796\u001b[0m     \u001b[38;5;28;01melse\u001b[39;00m:\n\u001b[0;32m    797\u001b[0m         \u001b[38;5;66;03m# Binary mode\u001b[39;00m\n\u001b[0;32m    798\u001b[0m         handle \u001b[38;5;241m=\u001b[39m \u001b[38;5;28mopen\u001b[39m(handle, ioargs\u001b[38;5;241m.\u001b[39mmode)\n",
      "\u001b[1;31mFileNotFoundError\u001b[0m: [Errno 2] No such file or directory: './data/cats.csv'"
     ]
    }
   ],
   "source": [
    "import pandas as pd\n",
    "cats=pd.read_csv('./data/cats.csv')\n",
    "cats"
   ]
  },
  {
   "cell_type": "markdown",
   "id": "fe195806",
   "metadata": {},
   "source": [
    "Bwt 컬럼은 고양이의 몸무게를 의미하고, Hwt는 고양이의 길이를 의미한다. \n",
    "cats의 데이터의 정보를 info로 확인해준다. "
   ]
  },
  {
   "cell_type": "code",
   "execution_count": 3,
   "id": "80c4ffec",
   "metadata": {},
   "outputs": [
    {
     "name": "stdout",
     "output_type": "stream",
     "text": [
      "<class 'pandas.core.frame.DataFrame'>\n",
      "RangeIndex: 144 entries, 0 to 143\n",
      "Data columns (total 3 columns):\n",
      " #   Column  Non-Null Count  Dtype  \n",
      "---  ------  --------------  -----  \n",
      " 0   Sex     144 non-null    object \n",
      " 1   Bwt     144 non-null    float64\n",
      " 2   Hwt     144 non-null    float64\n",
      "dtypes: float64(2), object(1)\n",
      "memory usage: 3.5+ KB\n"
     ]
    }
   ],
   "source": [
    "cats.info()"
   ]
  },
  {
   "cell_type": "markdown",
   "id": "ebb8a0a8",
   "metadata": {},
   "source": [
    "고양이의 몸무게가 2.6kg인지를 검정하므로 mu변수에 2.6을 할당한다. 그리고 고양이의 몸무게만 추출하여 shapro.test를 통해 정규성을 검정한다.\n",
    "shapiro test를 통해 데이터의 정규성을 검정한다. 고양이의 몸무게를 검정하므로 고양이의 몸무게만 추출하여 shapiro test를 진행해야 한다. "
   ]
  },
  {
   "cell_type": "code",
   "execution_count": 5,
   "id": "04e61ead",
   "metadata": {},
   "outputs": [
    {
     "data": {
      "text/plain": [
       "ShapiroResult(statistic=0.9518786668777466, pvalue=6.730248423991725e-05)"
      ]
     },
     "execution_count": 5,
     "metadata": {},
     "output_type": "execute_result"
    }
   ],
   "source": [
    "import scipy.stats as stats\n",
    "from scipy.stats import shapiro\n",
    "mu =2.6\n",
    "shapiro(cats['Bwt'])"
   ]
  },
  {
   "cell_type": "markdown",
   "id": "095c09a2",
   "metadata": {},
   "source": [
    "[결과해석]\n",
    "첫번째 값 (검정통계치) : 0.95187\n",
    "두번째 값 (p-value) : 6.730e-05\n",
    "유의수준보다 작으므로 '데이터가 정규분포를 따른다'는 귀무가설을 기각한다. 즉, cats 데이이터의 Bwt 변수는 정규분포를 따르지 않는다. 데이터가 정규분포를 따르지 않으므로 wilcox test 로 t-test를 진행한다. 만약, 정규분포를 따른다면 stats.ttest_1samp(cats.Bwt, popmean=mu)를 사용하면 된다. "
   ]
  },
  {
   "cell_type": "code",
   "execution_count": 6,
   "id": "1f90d539",
   "metadata": {},
   "outputs": [
    {
     "data": {
      "text/plain": [
       "WilcoxonResult(statistic=3573.0, pvalue=0.02524520294814093)"
      ]
     },
     "execution_count": 6,
     "metadata": {},
     "output_type": "execute_result"
    }
   ],
   "source": [
    "stats.wilcoxon(cats.Bwt - mu , alternative='two-sided')"
   ]
  },
  {
   "cell_type": "code",
   "execution_count": 7,
   "id": "7026ec8d",
   "metadata": {},
   "outputs": [
    {
     "data": {
      "text/plain": [
       "Text(0, 0.5, 'Count')"
      ]
     },
     "execution_count": 7,
     "metadata": {},
     "output_type": "execute_result"
    },
    {
     "data": {
      "image/png": "[encoded data removed]",
      "text/plain": [
       "<Figure size 432x288 with 1 Axes>"
      ]
     },
     "metadata": {
      "needs_background": "light"
     },
     "output_type": "display_data"
    }
   ],
   "source": [
    "import matplotlib.pyplot as plt\n",
    "cats_Bwt_cnt = pd.value_counts(cats['Bwt'].values, sort=False)  #type(cats['Bwt']) 과 비교하면 cats['Bwt'].values는 ndarray객체\n",
    "width =0.4\n",
    "plt.bar(cats_Bwt_cnt.index, cats_Bwt_cnt.values,width)\n",
    "plt.title('Bwt')\n",
    "plt.ylabel('Count')"
   ]
  },
  {
   "cell_type": "code",
   "execution_count": 14,
   "id": "e69b0995",
   "metadata": {},
   "outputs": [
    {
     "data": {
      "text/plain": [
       "Float64Index([2.0, 2.1, 2.2, 2.3, 2.4, 2.5, 2.6, 2.7, 2.9, 3.0, 2.8, 3.1, 3.2,\n",
       "              3.3, 3.4, 3.5, 3.6, 3.7, 3.8, 3.9],\n",
       "             dtype='float64')"
      ]
     },
     "execution_count": 14,
     "metadata": {},
     "output_type": "execute_result"
    }
   ],
   "source": [
    "cats_Bwt_cnt.index"
   ]
  },
  {
   "cell_type": "markdown",
   "id": "76ba9761",
   "metadata": {},
   "source": [
    "시각화한 고양이 몸무게의 그래프를 보더라도, 해당 데이터는 정규성을 띄지 않음을 알 수 있으며, Wilcoxon test 결과 p-value는 유의수준 0.05보다 작으므로 \"고양이의 몸무게가 2.6kg이다\"라는 귀무가설을 기각할 수 있다. 즉, 유의수준 0.05 하에 고양이이 평균 몸무게는 2.6kg라고 할 수 없다."
   ]
  },
  {
   "cell_type": "markdown",
   "id": "827d9c3f",
   "metadata": {},
   "source": [
    "# 대응표본 t-test\n",
    "- 단일 모집단에 대해 어떠한 처리를 가했을 때, 처리 전후에 따른 평균의 차이를 비교할 때 사용한다.\n",
    "\n",
    "10명의 환자 대상 수면영양제 복용 전과 후의 수면시간을 측정하였다.  \n",
    "영양제의 효과가 있는지를 판단해보자. "
   ]
  },
  {
   "cell_type": "code",
   "execution_count": 6,
   "id": "aa6dd71c",
   "metadata": {},
   "outputs": [
    {
     "data": {
      "text/plain": [
       "before    4.3\n",
       "after     5.3\n",
       "dtype: float64"
      ]
     },
     "execution_count": 6,
     "metadata": {},
     "output_type": "execute_result"
    }
   ],
   "source": [
    "# 데이터 불러오기 및 확인 \n",
    "import pandas as pd \n",
    "data = {'before':[7,3,4,5,2,1,6,6,5,4],\n",
    "       'after':[8,4,5,6,2,3,6,8,6,5]}\n",
    "data = pd.DataFrame(data)\n",
    "data\n",
    "data.mean()\n"
   ]
  },
  {
   "cell_type": "markdown",
   "id": "565d698c",
   "metadata": {},
   "source": [
    "해당 데이터를 검정하기 위한 가설 수립한다.  <br> <br>\n",
    "귀무가설(H0) <br>\n",
    "수면제 복용 전과 후의 수면시간 차이는 없다. <br>\n",
    "대립가설(H1)<br>\n",
    "수면제 복용 전과 후의 수면시간 차이는 있다. <br>\n"
   ]
  },
  {
   "cell_type": "code",
   "execution_count": 7,
   "id": "d9df3862",
   "metadata": {},
   "outputs": [
    {
     "data": {
      "text/plain": [
       "Ttest_relResult(statistic=4.743416490252569, pvalue=0.0005269356285082764)"
      ]
     },
     "execution_count": 7,
     "metadata": {},
     "output_type": "execute_result"
    }
   ],
   "source": [
    "import scipy.stats as stats\n",
    "stats.ttest_rel(data['after'],data['before'],alternative='greater')"
   ]
  },
  {
   "cell_type": "code",
   "execution_count": 8,
   "id": "79250a8d",
   "metadata": {},
   "outputs": [
    {
     "data": {
      "text/plain": [
       "before    4.3\n",
       "after     5.3\n",
       "dtype: float64"
      ]
     },
     "execution_count": 8,
     "metadata": {},
     "output_type": "execute_result"
    }
   ],
   "source": [
    "data.mean()"
   ]
  },
  {
   "cell_type": "markdown",
   "id": "a93e9308",
   "metadata": {},
   "source": [
    "[결과해석]\n",
    "p-value가 유의수준보다 작으므로 '수면영양제를 복용하기 전과 후의 평균 수면시간의 차이는 통계적으로 유의하며, 영양제를 복용한 후 수면시간이 늘었다'는 결론을 낼 수 있다. "
   ]
  },
  {
   "cell_type": "markdown",
   "id": "454e50fb",
   "metadata": {},
   "source": [
    "# 독립표본 t-test\n",
    "- 두 개의 독립된 모집단의 평균을 비교할 때 사용한다."
   ]
  },
  {
   "cell_type": "markdown",
   "id": "5df9c44f",
   "metadata": {},
   "source": [
    "연구환경\n",
    "<p>귀무가설 : 수컷과 암컷 고양이의 몸무게 차이는 없다.<p>\n",
    "<p>가설 : 수컷과 암컷 고양이의 몸무게 차이는 있다.</p>\n"
   ]
  },
  {
   "cell_type": "code",
   "execution_count": 16,
   "id": "5d65b4f1",
   "metadata": {},
   "outputs": [
    {
     "data": {
      "text/plain": [
       "LeveneResult(statistic=19.43101190877999, pvalue=2.0435285255189404e-05)"
      ]
     },
     "execution_count": 16,
     "metadata": {},
     "output_type": "execute_result"
    }
   ],
   "source": [
    "import pandas as pd\n",
    "cats=pd.read_csv('./data/cats.csv')\n",
    "\n",
    "female = cats.loc[cats.Sex =='F', 'Bwt']\n",
    "male = cats.loc[cats.Sex =='M', 'Bwt']\n",
    "stats.levene(female, male)\n"
   ]
  },
  {
   "cell_type": "code",
   "execution_count": 17,
   "id": "db35eebc",
   "metadata": {},
   "outputs": [
    {
     "data": {
      "text/plain": [
       "Ttest_indResult(statistic=-8.70948849909559, pvalue=8.831034455859356e-15)"
      ]
     },
     "execution_count": 17,
     "metadata": {},
     "output_type": "execute_result"
    }
   ],
   "source": [
    "stats.ttest_ind(female, male, equal_var=False)"
   ]
  },
  {
   "cell_type": "code",
   "execution_count": 18,
   "id": "23456b1d",
   "metadata": {},
   "outputs": [
    {
     "name": "stdout",
     "output_type": "stream",
     "text": [
      "2.359574468085107\n",
      "2.8999999999999995\n"
     ]
    }
   ],
   "source": [
    "print(female.mean())\n",
    "print(male.mean())"
   ]
  },
  {
   "cell_type": "code",
   "execution_count": 19,
   "id": "1efa5aaa",
   "metadata": {
    "scrolled": true
   },
   "outputs": [
    {
     "data": {
      "image/png": "[encoded data removed]",
      "text/plain": [
       "<Figure size 1440x360 with 2 Axes>"
      ]
     },
     "metadata": {
      "needs_background": "light"
     },
     "output_type": "display_data"
    }
   ],
   "source": [
    "#검정 결과와 평균값을 확인하였지만, 이를 시각화하여 데이터의 분포가 어떠한 차이가 있는지 명확하게 파악해볼 수 있다.\n",
    "female_Bwt_cnt = pd.value_counts(female.values, sort=False)\n",
    "male_Bwt_cnt = pd.value_counts(male.values, sort=False)\n",
    "fig, axs = plt.subplots(1, 2,figsize=(20,5))\n",
    "fig.suptitle('Bar plot')\n",
    "width =0.4\n",
    "axs[0].bar(female_Bwt_cnt.index, female_Bwt_cnt.values)\n",
    "axs[0].set_title('female_Bwt')\n",
    "axs[0].set_ylabel('Count')\n",
    "axs[1].bar(male_Bwt_cnt.index, male_Bwt_cnt.values)\n",
    "axs[1].set_title('male_Bwt')\n",
    "axs[1].set_ylabel('Count')\n",
    "plt.show()"
   ]
  },
  {
   "cell_type": "code",
   "execution_count": null,
   "id": "4d5ba7fb",
   "metadata": {},
   "outputs": [],
   "source": []
  }
 ],
 "metadata": {
  "kernelspec": {
   "display_name": "Python 3 (ipykernel)",
   "language": "python",
   "name": "python3"
  },
  "language_info": {
   "codemirror_mode": {
    "name": "ipython",
    "version": 3
   },
   "file_extension": ".py",
   "mimetype": "text/x-python",
   "name": "python",
   "nbconvert_exporter": "python",
   "pygments_lexer": "ipython3",
   "version": "3.9.12"
  },
  "toc": {
   "base_numbering": 1,
   "nav_menu": {},
   "number_sections": true,
   "sideBar": true,
   "skip_h1_title": false,
   "title_cell": "Table of Contents",
   "title_sidebar": "Contents",
   "toc_cell": true,
   "toc_position": {},
   "toc_section_display": true,
   "toc_window_display": true
  }
 },
 "nbformat": 4,
 "nbformat_minor": 5
}
